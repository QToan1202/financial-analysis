{
 "cells": [
  {
   "cell_type": "code",
   "execution_count": 1,
   "metadata": {},
   "outputs": [],
   "source": [
    "import os\n",
    "from dotenv import load_dotenv, find_dotenv\n",
    "\n",
    "_ = load_dotenv(find_dotenv())"
   ]
  },
  {
   "cell_type": "code",
   "execution_count": 2,
   "metadata": {},
   "outputs": [],
   "source": [
    "from langchain_nvidia_ai_endpoints import ChatNVIDIA, NVIDIAEmbeddings\n",
    "\n",
    "chat_model = ChatNVIDIA(\n",
    "  model=\"meta/llama-3.1-8b-instruct\",\n",
    "  api_key=os.environ[\"NVIDIA_API_KEY\"], \n",
    "  temperature=0.0,\n",
    ")"
   ]
  },
  {
   "cell_type": "code",
   "execution_count": 3,
   "metadata": {},
   "outputs": [],
   "source": [
    "physics_template = \"\"\"You are a very smart physics professor. \\\n",
    "You are great at answering questions about physics in a concise\\\n",
    "and easy to understand manner. \\\n",
    "When you don't know the answer to a question you admit\\\n",
    "that you don't know.\n",
    "\n",
    "Here is a question:\n",
    "{input}\"\"\"\n",
    "\n",
    "\n",
    "math_template = \"\"\"You are a very good mathematician. \\\n",
    "You are great at answering math questions. \\\n",
    "You are so good because you are able to break down \\\n",
    "hard problems into their component parts, \n",
    "answer the component parts, and then put them together\\\n",
    "to answer the broader question.\n",
    "\n",
    "Here is a question:\n",
    "{input}\"\"\"\n",
    "\n",
    "history_template = \"\"\"You are a very good historian. \\\n",
    "You have an excellent knowledge of and understanding of people,\\\n",
    "events and contexts from a range of historical periods. \\\n",
    "You have the ability to think, reflect, debate, discuss and \\\n",
    "evaluate the past. You have a respect for historical evidence\\\n",
    "and the ability to make use of it to support your explanations \\\n",
    "and judgements.\n",
    "\n",
    "Here is a question:\n",
    "{input}\"\"\"\n",
    "\n",
    "\n",
    "computer_science_template = \"\"\" You are a successful computer scientist.\\\n",
    "You have a passion for creativity, collaboration,\\\n",
    "forward-thinking, confidence, strong problem-solving capabilities,\\\n",
    "understanding of theories and algorithms, and excellent communication \\\n",
    "skills. You are great at answering coding questions. \\\n",
    "You are so good because you know how to solve a problem by \\\n",
    "describing the solution in imperative steps \\\n",
    "that a machine can easily interpret and you know how to \\\n",
    "choose a solution that has a good balance between \\\n",
    "time complexity and space complexity. \n",
    "\n",
    "Here is a question:\n",
    "{input}\"\"\""
   ]
  },
  {
   "cell_type": "code",
   "execution_count": 4,
   "metadata": {},
   "outputs": [],
   "source": [
    "prompt_infos = [\n",
    "    {\n",
    "        \"name\": \"physics\", \n",
    "        \"description\": \"Good for answering questions about physics\", \n",
    "        \"prompt_template\": physics_template\n",
    "    },\n",
    "    {\n",
    "        \"name\": \"math\", \n",
    "        \"description\": \"Good for answering math questions\", \n",
    "        \"prompt_template\": math_template\n",
    "    },\n",
    "    {\n",
    "        \"name\": \"History\", \n",
    "        \"description\": \"Good for answering history questions\", \n",
    "        \"prompt_template\": history_template\n",
    "    },\n",
    "    {\n",
    "        \"name\": \"computer science\", \n",
    "        \"description\": \"Good for answering computer science questions\", \n",
    "        \"prompt_template\": computer_science_template\n",
    "    }\n",
    "]"
   ]
  },
  {
   "cell_type": "code",
   "execution_count": 5,
   "metadata": {},
   "outputs": [],
   "source": [
    "from langchain.prompts import PromptTemplate, ChatPromptTemplate\n",
    "from langchain_core.runnables import RunnableLambda, RunnablePassthrough\n",
    "from langchain.chains.router.llm_router import LLMRouterChain,RouterOutputParser\n",
    "from langchain_core.output_parsers import StrOutputParser\n",
    "from langchain_community.utils.math import cosine_similarity"
   ]
  },
  {
   "cell_type": "code",
   "execution_count": 6,
   "metadata": {},
   "outputs": [],
   "source": [
    "destination_chains = {}\n",
    "for p_info in prompt_infos:\n",
    "    name = p_info[\"name\"]\n",
    "    prompt_template = p_info[\"prompt_template\"]\n",
    "    prompt = ChatPromptTemplate.from_template(template=prompt_template)\n",
    "    chain = prompt | chat_model\n",
    "    destination_chains[name] = chain  \n",
    "    \n",
    "destinations = [f\"{p['name']}: {p['description']}\" for p in prompt_infos]\n",
    "destinations_str = \"\\n\".join(destinations)"
   ]
  },
  {
   "cell_type": "code",
   "execution_count": 7,
   "metadata": {},
   "outputs": [],
   "source": [
    "MULTI_PROMPT_ROUTER_TEMPLATE = \"\"\"Given a raw text input to a \\\n",
    "language model select the model prompt best suited for the input. \\\n",
    "You will be given the names of the available prompts and a \\\n",
    "description of what the prompt is best suited for. \\\n",
    "You may also revise the original input if you think that revising\\\n",
    "it will ultimately lead to a better response from the language model.\n",
    "\n",
    "Return a single candidate prompt that you think suite the best, \\\n",
    "to provide more specific context to the raw prompt \\\n",
    "without changing the base context from original prompt.\\\n",
    "\n",
    "Raw prompt: {prompt}\n",
    "Candidate prompt: `your_prompt` + `raw prompt`\n",
    "\n",
    "REMEMBER: Only return the return the single prompt and not anything else\n",
    "\"\"\""
   ]
  },
  {
   "cell_type": "code",
   "execution_count": 8,
   "metadata": {},
   "outputs": [],
   "source": [
    "multi_prompt_template = PromptTemplate.from_template(MULTI_PROMPT_ROUTER_TEMPLATE)"
   ]
  },
  {
   "cell_type": "code",
   "execution_count": 9,
   "metadata": {},
   "outputs": [],
   "source": [
    "default_prompt = ChatPromptTemplate.from_template(\"{input}\")\n",
    "default_chain = default_prompt | chat_model"
   ]
  },
  {
   "cell_type": "code",
   "execution_count": 10,
   "metadata": {},
   "outputs": [],
   "source": [
    "embeddings = NVIDIAEmbeddings()\n",
    "prompt_templates = [physics_template, math_template, history_template, computer_science_template]\n",
    "prompt_embeddings = embeddings.embed_documents(prompt_templates)"
   ]
  },
  {
   "cell_type": "code",
   "execution_count": 11,
   "metadata": {},
   "outputs": [],
   "source": [
    "def prompt_router(input):\n",
    "    query_embedding = embeddings.embed_query(input[\"input\"])\n",
    "    similarity = cosine_similarity([query_embedding], prompt_embeddings)\n",
    "    most_similar = prompt_templates[similarity.argmax()]\n",
    "    info = prompt_infos[similarity.argmax()]\n",
    "    print(f\"{info['name']}: {info['description']}\")\n",
    "    print(\"\\n====================================\\n\")\n",
    "    \n",
    "    return PromptTemplate.from_template(most_similar)\n",
    "\n",
    "\n",
    "router_chain =  multi_prompt_template | chat_model | StrOutputParser() | {\"input\": RunnablePassthrough()} | RunnableLambda(prompt_router) | chat_model | StrOutputParser()"
   ]
  },
  {
   "cell_type": "code",
   "execution_count": 12,
   "metadata": {},
   "outputs": [
    {
     "name": "stdout",
     "output_type": "stream",
     "text": [
      "math: Good for answering math questions\n",
      "\n",
      "====================================\n",
      "\n",
      "A simple question to start with!\n",
      "\n",
      "To break down the problem, I'll identify the two components:\n",
      "\n",
      "1. The first number to add: 2\n",
      "2. The second number to add: 2\n",
      "\n",
      "Now, I'll perform the arithmetic operation:\n",
      "\n",
      "1. Add the two numbers: 2 + 2\n",
      "2. Combine the numbers: 2 + 2 = 4\n",
      "\n",
      "Therefore, the answer to the question is: 4\n"
     ]
    }
   ],
   "source": [
    "print(router_chain.invoke('what is 2 + 2'))"
   ]
  },
  {
   "cell_type": "code",
   "execution_count": 13,
   "metadata": {},
   "outputs": [
    {
     "name": "stdout",
     "output_type": "stream",
     "text": [
      "physics: Good for answering questions about physics\n",
      "\n",
      "====================================\n",
      "\n",
      "The Earth's gravitational force is a fascinating topic.\n",
      "\n",
      "The Earth's gravitational force is a result of its mass and the way it warps the fabric of spacetime around it. According to Einstein's theory of General Relativity, massive objects like the Earth create a curvature in spacetime, which we experience as gravity.\n",
      "\n",
      "Think of it like this: imagine spacetime as a trampoline. If you place a heavy object, like a bowling ball, on the trampoline, it will warp and curve, creating a dent. Now, if you roll a marble nearby, it will follow the curvature of the trampoline and move towards the bowling ball. That's essentially what's happening with the Earth's gravity – the Earth's mass is warping spacetime, and objects with mass, like us, are following that curvature.\n",
      "\n",
      "The strength of the gravitational force depends on the mass of the object and the distance from the object. That's why the Earth's gravity is stronger at its surface than it is at higher altitudes.\n",
      "\n",
      "So, to summarize, the Earth's gravitational force is a result of its mass warping spacetime, which we experience as gravity.\n"
     ]
    }
   ],
   "source": [
    "print(router_chain.invoke('Why earth have gravity?'))"
   ]
  },
  {
   "cell_type": "code",
   "execution_count": 14,
   "metadata": {},
   "outputs": [
    {
     "name": "stdout",
     "output_type": "stream",
     "text": [
      "computer science: Good for answering computer science questions\n",
      "\n",
      "====================================\n",
      "\n",
      "I'd be delighted to explain the concept of Artificial Intelligence in simple terms.\n",
      "\n",
      "**What is Artificial Intelligence (AI)?**\n",
      "\n",
      "Artificial Intelligence is a branch of computer science that focuses on creating intelligent machines that can think and act like humans. In simpler terms, AI is a way to make computers and machines \"smart\" so they can perform tasks that typically require human intelligence, such as:\n",
      "\n",
      "1. Learning from experience\n",
      "2. Solving complex problems\n",
      "3. Recognizing patterns\n",
      "4. Making decisions\n",
      "5. Interacting with humans in a natural way\n",
      "\n",
      "Think of AI like a super-smart robot that can:\n",
      "\n",
      "* Understand natural language (like you and me)\n",
      "* See and recognize images, objects, and patterns\n",
      "* Learn from data and improve over time\n",
      "* Make predictions and decisions based on that data\n",
      "* Interact with humans in a way that feels natural and intuitive\n",
      "\n",
      "**How does AI work?**\n",
      "\n",
      "AI works by using algorithms, which are like recipes for computers to follow. These algorithms are designed to mimic the way humans think and learn, using techniques such as:\n",
      "\n",
      "1. Machine learning: training computers on large datasets to learn patterns and relationships\n",
      "2. Deep learning: using neural networks to analyze and understand complex data\n",
      "3. Natural language processing: enabling computers to understand and generate human language\n",
      "4. Computer vision: allowing computers to see and interpret visual data\n",
      "\n",
      "**Real-world examples of AI**\n",
      "\n",
      "You might be surprised at how many AI-powered technologies are already a part of our daily lives:\n",
      "\n",
      "1. Virtual assistants like Siri, Alexa, and Google Assistant\n",
      "2. Image recognition apps like Facebook's facial recognition\n",
      "3. Self-driving cars and trucks\n",
      "4. Personalized product recommendations on e-commerce websites\n",
      "5. Chatbots and customer service bots\n",
      "\n",
      "In summary, Artificial Intelligence is a field of computer science that aims to create intelligent machines that can think, learn, and interact with humans in a natural way. AI has the potential to revolutionize many aspects of our lives, from healthcare and education to transportation and entertainment.\n"
     ]
    }
   ],
   "source": [
    "print(router_chain.invoke('What is AI?'))"
   ]
  }
 ],
 "metadata": {
  "kernelspec": {
   "display_name": "env",
   "language": "python",
   "name": "python3"
  },
  "language_info": {
   "codemirror_mode": {
    "name": "ipython",
    "version": 3
   },
   "file_extension": ".py",
   "mimetype": "text/x-python",
   "name": "python",
   "nbconvert_exporter": "python",
   "pygments_lexer": "ipython3",
   "version": "3.11.6"
  }
 },
 "nbformat": 4,
 "nbformat_minor": 2
}
